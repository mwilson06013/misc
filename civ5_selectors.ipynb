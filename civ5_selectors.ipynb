{
 "cells": [
  {
   "cell_type": "code",
   "execution_count": 37,
   "id": "2f078ea5",
   "metadata": {},
   "outputs": [
    {
     "name": "stdout",
     "output_type": "stream",
     "text": [
      "['Japanese']\n",
      "['Aztec']\n",
      "['Indonesian']\n",
      "['Austrian']\n",
      "['English']\n",
      "['Venetian']\n"
     ]
    }
   ],
   "source": [
    "import csv\n",
    "import random\n",
    "\n",
    "def sample_from_csv(file_path, n, exclude_items):\n",
    "    # Read all the rows from the CSV file\n",
    "    with open(file_path, 'r', newline='') as csvfile:\n",
    "        reader = csv.reader(csvfile)\n",
    "        rows = [row for row in reader if not any(item in row for item in exclude_items)]\n",
    "\n",
    "    # Exclude the header row for sampling, then add it back to the sampled rows\n",
    "    sampled_rows = random.sample(rows[1:], n)\n",
    "    \n",
    "    return sampled_rows\n",
    "\n",
    "# Example usage\n",
    "file_path = 'C:\\\\Users\\\\REEEE\\\\Documents\\\\civs_civ5_bnw.csv'  # civ list\n",
    "n = 6  # n players \n",
    "\n",
    "# Define the exclude_list - list of rows to be excluded\n",
    "exclude_list = ['Polish', 'Spanish', 'Babylonian', 'Arabian', 'Korean', 'Hunnic']\n",
    "\n",
    "sampled_data = sample_from_csv(file_path, n, exclude_list)\n",
    "\n",
    "# Printing the sampled data\n",
    "for row in sampled_data:\n",
    "    print(row)\n"
   ]
  },
  {
   "cell_type": "code",
   "execution_count": null,
   "id": "51f987a8",
   "metadata": {},
   "outputs": [],
   "source": []
  },
  {
   "cell_type": "code",
   "execution_count": null,
   "id": "56c82fda",
   "metadata": {},
   "outputs": [],
   "source": []
  }
 ],
 "metadata": {
  "kernelspec": {
   "display_name": "Python 3 (ipykernel)",
   "language": "python",
   "name": "python3"
  },
  "language_info": {
   "codemirror_mode": {
    "name": "ipython",
    "version": 3
   },
   "file_extension": ".py",
   "mimetype": "text/x-python",
   "name": "python",
   "nbconvert_exporter": "python",
   "pygments_lexer": "ipython3",
   "version": "3.11.5"
  }
 },
 "nbformat": 4,
 "nbformat_minor": 5
}
